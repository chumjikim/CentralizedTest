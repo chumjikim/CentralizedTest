{
  "nbformat": 4,
  "nbformat_minor": 0,
  "metadata": {
    "colab": {
      "name": "2차 실습 코드(Pytorch).ipynb의 사본의 사본",
      "provenance": [],
      "collapsed_sections": [],
      "include_colab_link": true
    },
    "kernelspec": {
      "name": "python3",
      "display_name": "Python 3"
    },
    "accelerator": "GPU"
  },
  "cells": [
    {
      "cell_type": "markdown",
      "metadata": {
        "id": "view-in-github",
        "colab_type": "text"
      },
      "source": [
        "<a href=\"https://colab.research.google.com/github/chumjikim/CentralizedTest/blob/master/2%EC%B0%A8_%EC%8B%A4%EC%8A%B5_%EC%BD%94%EB%93%9C(Pytorch)_ipynb%EC%9D%98_%EC%82%AC%EB%B3%B8%EC%9D%98_%EC%82%AC%EB%B3%B8.ipynb\" target=\"_parent\"><img src=\"https://colab.research.google.com/assets/colab-badge.svg\" alt=\"Open In Colab\"/></a>"
      ]
    },
    {
      "cell_type": "code",
      "metadata": {
        "id": "ApMA_MsI4oHi",
        "colab_type": "code",
        "outputId": "558a668f-6be0-43f4-dd53-0f7aa56902d1",
        "colab": {
          "base_uri": "https://localhost:8080/",
          "height": 425
        }
      },
      "source": [
        "# Data loading\n",
        "\n",
        "from sklearn.datasets import load_breast_cancer\n",
        "\n",
        "# (K2020009) sklearn.datasets 모듈에서 제공하는 sample dataset 중에 breast_cancer 데이터를 로드한다.\n",
        "\n",
        "cancer = load_breast_cancer() # (K2020009) 데이터 불러오기\n",
        "data = cancer.data # (K2020009) 속성데이터\n",
        "labels = cancer.target # (K2020009) 클래스데이터\n",
        "\n",
        "print(data)\n",
        "print(labels) \n",
        "print(data.shape) # (K2020009) 전체 행과 열의 갯수 출력"
      ],
      "execution_count": 0,
      "outputs": [
        {
          "output_type": "stream",
          "text": [
            "[[1.799e+01 1.038e+01 1.228e+02 ... 2.654e-01 4.601e-01 1.189e-01]\n",
            " [2.057e+01 1.777e+01 1.329e+02 ... 1.860e-01 2.750e-01 8.902e-02]\n",
            " [1.969e+01 2.125e+01 1.300e+02 ... 2.430e-01 3.613e-01 8.758e-02]\n",
            " ...\n",
            " [1.660e+01 2.808e+01 1.083e+02 ... 1.418e-01 2.218e-01 7.820e-02]\n",
            " [2.060e+01 2.933e+01 1.401e+02 ... 2.650e-01 4.087e-01 1.240e-01]\n",
            " [7.760e+00 2.454e+01 4.792e+01 ... 0.000e+00 2.871e-01 7.039e-02]]\n",
            "[0 0 0 0 0 0 0 0 0 0 0 0 0 0 0 0 0 0 0 1 1 1 0 0 0 0 0 0 0 0 0 0 0 0 0 0 0\n",
            " 1 0 0 0 0 0 0 0 0 1 0 1 1 1 1 1 0 0 1 0 0 1 1 1 1 0 1 0 0 1 1 1 1 0 1 0 0\n",
            " 1 0 1 0 0 1 1 1 0 0 1 0 0 0 1 1 1 0 1 1 0 0 1 1 1 0 0 1 1 1 1 0 1 1 0 1 1\n",
            " 1 1 1 1 1 1 0 0 0 1 0 0 1 1 1 0 0 1 0 1 0 0 1 0 0 1 1 0 1 1 0 1 1 1 1 0 1\n",
            " 1 1 1 1 1 1 1 1 0 1 1 1 1 0 0 1 0 1 1 0 0 1 1 0 0 1 1 1 1 0 1 1 0 0 0 1 0\n",
            " 1 0 1 1 1 0 1 1 0 0 1 0 0 0 0 1 0 0 0 1 0 1 0 1 1 0 1 0 0 0 0 1 1 0 0 1 1\n",
            " 1 0 1 1 1 1 1 0 0 1 1 0 1 1 0 0 1 0 1 1 1 1 0 1 1 1 1 1 0 1 0 0 0 0 0 0 0\n",
            " 0 0 0 0 0 0 0 1 1 1 1 1 1 0 1 0 1 1 0 1 1 0 1 0 0 1 1 1 1 1 1 1 1 1 1 1 1\n",
            " 1 0 1 1 0 1 0 1 1 1 1 1 1 1 1 1 1 1 1 1 1 0 1 1 1 0 1 0 1 1 1 1 0 0 0 1 1\n",
            " 1 1 0 1 0 1 0 1 1 1 0 1 1 1 1 1 1 1 0 0 0 1 1 1 1 1 1 1 1 1 1 1 0 0 1 0 0\n",
            " 0 1 0 0 1 1 1 1 1 0 1 1 1 1 1 0 1 1 1 0 1 1 0 0 1 1 1 1 1 1 0 1 1 1 1 1 1\n",
            " 1 0 1 1 1 1 1 0 1 1 0 1 1 1 1 1 1 1 1 1 1 1 1 0 1 0 0 1 0 1 1 1 1 1 0 1 1\n",
            " 0 1 0 1 1 0 1 0 1 1 1 1 1 1 1 1 0 0 1 1 1 1 1 1 0 1 1 1 1 1 1 1 1 1 1 0 1\n",
            " 1 1 1 1 1 1 0 1 0 1 1 0 1 1 1 1 1 0 0 1 0 1 0 1 1 1 1 1 0 1 1 0 1 0 1 0 0\n",
            " 1 1 1 0 1 1 1 1 1 1 1 1 1 1 1 0 1 0 0 1 1 1 1 1 1 1 1 1 1 1 1 1 1 1 1 1 1\n",
            " 1 1 1 1 1 1 1 0 0 0 0 0 0 1]\n",
            "(569, 30)\n"
          ],
          "name": "stdout"
        }
      ]
    },
    {
      "cell_type": "code",
      "metadata": {
        "id": "qi0SFzZs4zZP",
        "colab_type": "code",
        "outputId": "71c20842-79c1-4195-a71d-7b341f29b7d0",
        "colab": {
          "base_uri": "https://localhost:8080/",
          "height": 187
        }
      },
      "source": [
        "# Split data\n",
        "\n",
        "from sklearn.model_selection import train_test_split\n",
        "# (K2020009) train test split 함수를 사용해 train set과 test set으로 분리 ( test size = 10%)\n",
        "\n",
        "x_train, x_test, y_train, y_test = train_test_split(data, labels, test_size=0.1) \n",
        "print(len(x_train), len(x_test), type(x_train))\n",
        "\n",
        "print(x_test)\n",
        "print(y_test)"
      ],
      "execution_count": 0,
      "outputs": [
        {
          "output_type": "stream",
          "text": [
            "512 57 <class 'numpy.ndarray'>\n",
            "[[8.219e+00 2.070e+01 5.327e+01 ... 7.879e-02 3.322e-01 1.486e-01]\n",
            " [1.613e+01 1.788e+01 1.070e+02 ... 1.864e-01 4.270e-01 1.233e-01]\n",
            " [2.175e+01 2.099e+01 1.473e+02 ... 1.841e-01 2.833e-01 8.858e-02]\n",
            " ...\n",
            " [1.701e+01 2.026e+01 1.097e+02 ... 1.096e-01 3.275e-01 6.469e-02]\n",
            " [1.953e+01 1.890e+01 1.295e+02 ... 1.980e-01 2.968e-01 9.929e-02]\n",
            " [2.020e+01 2.683e+01 1.337e+02 ... 2.152e-01 3.271e-01 7.632e-02]]\n",
            "[1 0 0 0 1 1 0 1 0 0 1 1 1 1 0 0 0 0 1 0 1 0 1 0 1 1 1 1 1 1 0 1 1 1 1 0 0\n",
            " 1 1 1 1 1 1 1 1 0 1 1 0 0 1 1 0 1 0 0 0]\n"
          ],
          "name": "stdout"
        }
      ]
    },
    {
      "cell_type": "code",
      "metadata": {
        "id": "qkfYVX555tVh",
        "colab_type": "code",
        "outputId": "82e26880-f9bd-4263-f688-498eb2838bc3",
        "colab": {
          "base_uri": "https://localhost:8080/",
          "height": 255
        }
      },
      "source": [
        "# Convert to tensor\n",
        "\n",
        "import torch\n",
        "import torch.nn as nn # (K2020009) Deep learning model에 필요한 모듈이 모아져 있는 패키지\n",
        "import torch.nn.functional as F # (K2020009) nn과 같은 모듈이 모아져 있지만 함수의 input으로 반드시 연산이 되어야 하는 값을 받는다.\n",
        "from torch.utils.data import DataLoader, TensorDataset\n",
        "from torch.autograd import Variable # (K2020009) autograd는 텐서의 연산에 대해 자동으로 미분값을 구해주는 기능을 한다.\n",
        "# (K2020009) 필요한 패키지 import\n",
        "\n",
        "x_train = Variable(torch.from_numpy(x_train).float()) # (K2020009) x_train값 미분 및 torch의 tensor로 변환\n",
        "y_train = Variable(torch.from_numpy(y_train).float()) # (K2020009) y_train값 미분 및 torch의 tensor로 변환\n",
        "\n",
        "x_test = Variable(torch.from_numpy(x_test).float()) # (K2020009) x_test값 미분 및 torch의 tensor로 변환\n",
        "y_test = Variable(torch.from_numpy(y_test).float()) # (K2020009) y_test값 미분 및 torch의 tensor로 변환\n",
        "\n",
        "print(type(x_train))"
      ],
      "execution_count": 0,
      "outputs": [
        {
          "output_type": "stream",
          "text": [
            "<class 'torch.Tensor'>\n",
            "tensor([[1.2050e+01, 2.2720e+01, 7.8750e+01,  ..., 1.0920e-01, 2.1910e-01,\n",
            "         9.3490e-02],\n",
            "        [1.1690e+01, 2.4440e+01, 7.6370e+01,  ..., 1.3080e-01, 2.8030e-01,\n",
            "         9.9700e-02],\n",
            "        [8.9500e+00, 1.5760e+01, 5.8740e+01,  ..., 3.8460e-02, 1.6520e-01,\n",
            "         7.7220e-02],\n",
            "        ...,\n",
            "        [8.5970e+00, 1.8600e+01, 5.4090e+01,  ..., 0.0000e+00, 3.1420e-01,\n",
            "         8.1160e-02],\n",
            "        [1.2560e+01, 1.9070e+01, 8.1920e+01,  ..., 9.2650e-02, 2.1210e-01,\n",
            "         7.1880e-02],\n",
            "        [1.6650e+01, 2.1380e+01, 1.1000e+02,  ..., 2.0950e-01, 3.6130e-01,\n",
            "         9.5640e-02]])\n"
          ],
          "name": "stdout"
        }
      ]
    },
    {
      "cell_type": "code",
      "metadata": {
        "id": "JILCuCqf6USv",
        "colab_type": "code",
        "colab": {}
      },
      "source": [
        "# Generating dataset\n",
        "\n",
        "train_set = TensorDataset(x_train, y_train) # (K2020009) x_train, y_train의 값을 이용하여 dataset 생성\n",
        "test_set = TensorDataset(x_test, y_test)  # (K2020009) x_test, y_test의 값을 이용하여 dataset 생성\n",
        "\n",
        "train_loader = DataLoader(train_set, batch_size = 8, shuffle=True) # (K2020009) data 순서를 섞어서 8개씩 데이터를 반환하는 train_loader"
      ],
      "execution_count": 0,
      "outputs": []
    },
    {
      "cell_type": "code",
      "metadata": {
        "id": "umKKUzh16esj",
        "colab_type": "code",
        "outputId": "1e241a07-7d57-4d18-be9b-68c29348b164",
        "colab": {
          "base_uri": "https://localhost:8080/",
          "height": 153
        }
      },
      "source": [
        "# Construct model\n",
        "\n",
        "class Model(nn.Module): # (K2020009) nn.Module은 모든 신경망 모듈의 기본이 되는 클래스로 레이어, 함수등을 정의\n",
        "# (K2020009) class 형태의 모델은 항상 nn.Module 을 상속받아야 하며, super(모델명, self).__init__() 을 통해 nn.Module.__init__() 을 실행시키는 코드가 필요함.\n",
        "\n",
        "  def __init__(self): # (K2020009) 초기화 함수\n",
        "    super().__init__()\n",
        "    \n",
        "    self.layer1 = nn.Linear(30, 128) \n",
        "    self.layer2 = nn.Linear(128, 64)\n",
        "    self.layer3 = nn.Linear(64, 32)\n",
        "    self.layer4 = nn.Linear(32, 16)\n",
        "    self.layer5 = nn.Linear(16, 1)\n",
        "    self.act = nn.ReLU()\n",
        "\n",
        "# (K2020009) 1~128의 크기를 갖는 5개 층의 신경망 모델 생성\n",
        "\n",
        "  def forward(self,x):\n",
        "    x = self.act(self.layer1(x))\n",
        "    x = self.act(self.layer2(x))\n",
        "    x = self.act(self.layer3(x))\n",
        "    x = self.act(self.layer4(x))\n",
        "    x = self.layer5(x)\n",
        "    x = torch.sigmoid(x)\n",
        "\n",
        "# (K2020009) sigmoid 함수 적용\n",
        "\n",
        "    return x\n",
        "\n",
        "model = Model()\n",
        "print(model)\n"
      ],
      "execution_count": 0,
      "outputs": [
        {
          "output_type": "stream",
          "text": [
            "Model(\n",
            "  (layer1): Linear(in_features=30, out_features=128, bias=True)\n",
            "  (layer2): Linear(in_features=128, out_features=64, bias=True)\n",
            "  (layer3): Linear(in_features=64, out_features=32, bias=True)\n",
            "  (layer4): Linear(in_features=32, out_features=16, bias=True)\n",
            "  (layer5): Linear(in_features=16, out_features=1, bias=True)\n",
            "  (act): ReLU()\n",
            ")\n"
          ],
          "name": "stdout"
        }
      ]
    },
    {
      "cell_type": "code",
      "metadata": {
        "id": "fO2QwNMl6gVt",
        "colab_type": "code",
        "colab": {}
      },
      "source": [
        "# Configure optimizer\n",
        "optimizer = torch.optim.SGD(model.parameters(), lr=0.001)\n",
        "\n",
        "# (K2020009) SGD optimizer 사용"
      ],
      "execution_count": 0,
      "outputs": []
    },
    {
      "cell_type": "code",
      "metadata": {
        "id": "TMF-ZKi6DFaH",
        "colab_type": "code",
        "outputId": "5aa72332-ca18-4662-c2f5-8e1bf4f9f4a9",
        "colab": {
          "base_uri": "https://localhost:8080/",
          "height": 1000
        }
      },
      "source": [
        "# Training\n",
        "\n",
        "epochs = (K2020009) 200 # 200회 학습\n",
        "losses = list()\n",
        "accuracies = list()\n",
        "\n",
        "for epoch in range(epochs):\n",
        "  epoch_loss = 0  \n",
        "  epoch_accuracy = 0\n",
        "  for x, y in train_loader:\n",
        "  \n",
        "    optimizer.zero_grad() // # (K2020009) 변화도를 0으로 만들고\n",
        "    output = model(x)\n",
        "\n",
        "    loss = F.binary_cross_entropy(output, y)\n",
        "    loss.backward() # (K2020009) 역전파 단계를 수행하고\n",
        "    \n",
        "    optimizer.step() # (K2020009) 가중치를 갱신함.\n",
        "    \n",
        "    output[output>=0.5] = 1\n",
        "    output[output<0.5] = 0\n",
        "    accuracy = sum(sum(y.data.numpy() == output.data.T.numpy()))\n",
        "\n",
        "    epoch_loss += loss.item()\n",
        "    epoch_accuracy += accuracy\n",
        "  \n",
        "\n",
        "  epoch_loss /= len(train_loader)\n",
        "  epoch_accuracy /= len(x_train)\n",
        "  print(str(epoch+1).zfill(3), \"loss :\", round(epoch_loss,4),\"accuracy :\", round(epoch_accuracy,4))\n",
        "  \n",
        "  losses.append(epoch_loss)\n",
        "  accuracies.append(epoch_accuracy)\n",
        "\n",
        "  "
      ],
      "execution_count": 0,
      "outputs": [
        {
          "output_type": "stream",
          "text": [
            "001 loss : 0.638 accuracy : 0.6504\n",
            "002 loss : 0.5626 accuracy : 0.7383\n"
          ],
          "name": "stdout"
        },
        {
          "output_type": "stream",
          "text": [
            "/usr/local/lib/python3.6/dist-packages/ipykernel_launcher.py:15: UserWarning: Using a target size (torch.Size([8])) that is different to the input size (torch.Size([8, 1])) is deprecated. Please ensure they have the same size.\n",
            "  from ipykernel import kernelapp as app\n"
          ],
          "name": "stderr"
        },
        {
          "output_type": "stream",
          "text": [
            "003 loss : 0.524 accuracy : 0.7793\n",
            "004 loss : 0.519 accuracy : 0.8008\n",
            "005 loss : 0.4387 accuracy : 0.8457\n",
            "006 loss : 0.4085 accuracy : 0.8652\n",
            "007 loss : 0.4152 accuracy : 0.8535\n",
            "008 loss : 0.3691 accuracy : 0.8652\n",
            "009 loss : 0.3862 accuracy : 0.8477\n",
            "010 loss : 0.3659 accuracy : 0.8594\n",
            "011 loss : 0.3831 accuracy : 0.8477\n",
            "012 loss : 0.3082 accuracy : 0.8828\n",
            "013 loss : 0.3619 accuracy : 0.8457\n",
            "014 loss : 0.3175 accuracy : 0.875\n",
            "015 loss : 0.3338 accuracy : 0.8672\n",
            "016 loss : 0.318 accuracy : 0.877\n",
            "017 loss : 0.2875 accuracy : 0.8848\n",
            "018 loss : 0.3322 accuracy : 0.875\n",
            "019 loss : 0.2935 accuracy : 0.8984\n",
            "020 loss : 0.3008 accuracy : 0.8691\n",
            "021 loss : 0.2964 accuracy : 0.8926\n",
            "022 loss : 0.2807 accuracy : 0.9062\n",
            "023 loss : 0.2456 accuracy : 0.9004\n",
            "024 loss : 0.262 accuracy : 0.9121\n",
            "025 loss : 0.2852 accuracy : 0.8965\n",
            "026 loss : 0.2825 accuracy : 0.877\n",
            "027 loss : 0.2993 accuracy : 0.8789\n",
            "028 loss : 0.2535 accuracy : 0.9141\n",
            "029 loss : 0.2805 accuracy : 0.9004\n",
            "030 loss : 0.2849 accuracy : 0.877\n",
            "031 loss : 0.2593 accuracy : 0.9023\n",
            "032 loss : 0.2615 accuracy : 0.8926\n",
            "033 loss : 0.2875 accuracy : 0.9004\n",
            "034 loss : 0.2738 accuracy : 0.8867\n",
            "035 loss : 0.2617 accuracy : 0.9004\n",
            "036 loss : 0.2515 accuracy : 0.8887\n",
            "037 loss : 0.2975 accuracy : 0.8906\n",
            "038 loss : 0.2487 accuracy : 0.9004\n",
            "039 loss : 0.2463 accuracy : 0.9043\n",
            "040 loss : 0.2685 accuracy : 0.8926\n",
            "041 loss : 0.2543 accuracy : 0.9043\n",
            "042 loss : 0.2542 accuracy : 0.9023\n",
            "043 loss : 0.2424 accuracy : 0.9043\n",
            "044 loss : 0.2587 accuracy : 0.9082\n",
            "045 loss : 0.2408 accuracy : 0.9023\n",
            "046 loss : 0.2561 accuracy : 0.8984\n",
            "047 loss : 0.2438 accuracy : 0.9102\n",
            "048 loss : 0.2507 accuracy : 0.9062\n",
            "049 loss : 0.2787 accuracy : 0.8867\n",
            "050 loss : 0.2378 accuracy : 0.9004\n",
            "051 loss : 0.2457 accuracy : 0.9082\n",
            "052 loss : 0.2568 accuracy : 0.9062\n",
            "053 loss : 0.2381 accuracy : 0.9062\n",
            "054 loss : 0.2526 accuracy : 0.9004\n",
            "055 loss : 0.2353 accuracy : 0.9082\n",
            "056 loss : 0.2399 accuracy : 0.9082\n",
            "057 loss : 0.2175 accuracy : 0.918\n",
            "058 loss : 0.241 accuracy : 0.9082\n",
            "059 loss : 0.2391 accuracy : 0.8945\n",
            "060 loss : 0.2435 accuracy : 0.8965\n",
            "061 loss : 0.2167 accuracy : 0.916\n",
            "062 loss : 0.2393 accuracy : 0.9043\n",
            "063 loss : 0.2331 accuracy : 0.9062\n",
            "064 loss : 0.2095 accuracy : 0.9238\n",
            "065 loss : 0.2427 accuracy : 0.8984\n",
            "066 loss : 0.2424 accuracy : 0.9102\n",
            "067 loss : 0.2243 accuracy : 0.9141\n",
            "068 loss : 0.2205 accuracy : 0.9238\n",
            "069 loss : 0.2512 accuracy : 0.9082\n",
            "070 loss : 0.241 accuracy : 0.9082\n",
            "071 loss : 0.2194 accuracy : 0.9082\n",
            "072 loss : 0.2111 accuracy : 0.916\n",
            "073 loss : 0.2493 accuracy : 0.9121\n",
            "074 loss : 0.2202 accuracy : 0.918\n",
            "075 loss : 0.207 accuracy : 0.9277\n",
            "076 loss : 0.217 accuracy : 0.9219\n",
            "077 loss : 0.2306 accuracy : 0.9062\n",
            "078 loss : 0.2312 accuracy : 0.916\n",
            "079 loss : 0.2378 accuracy : 0.9102\n",
            "080 loss : 0.2209 accuracy : 0.9219\n",
            "081 loss : 0.2165 accuracy : 0.9082\n",
            "082 loss : 0.2265 accuracy : 0.9121\n",
            "083 loss : 0.2145 accuracy : 0.9121\n",
            "084 loss : 0.2228 accuracy : 0.9141\n",
            "085 loss : 0.2291 accuracy : 0.9102\n",
            "086 loss : 0.2114 accuracy : 0.918\n",
            "087 loss : 0.2203 accuracy : 0.9043\n",
            "088 loss : 0.2377 accuracy : 0.9102\n",
            "089 loss : 0.2224 accuracy : 0.916\n",
            "090 loss : 0.2019 accuracy : 0.9238\n",
            "091 loss : 0.2088 accuracy : 0.9238\n",
            "092 loss : 0.2302 accuracy : 0.916\n",
            "093 loss : 0.2058 accuracy : 0.9336\n",
            "094 loss : 0.228 accuracy : 0.9043\n",
            "095 loss : 0.2175 accuracy : 0.916\n",
            "096 loss : 0.1926 accuracy : 0.9277\n",
            "097 loss : 0.2232 accuracy : 0.9023\n",
            "098 loss : 0.2176 accuracy : 0.916\n",
            "099 loss : 0.2355 accuracy : 0.9102\n",
            "100 loss : 0.2094 accuracy : 0.9199\n",
            "101 loss : 0.2176 accuracy : 0.9277\n",
            "102 loss : 0.226 accuracy : 0.9082\n",
            "103 loss : 0.2209 accuracy : 0.9043\n",
            "104 loss : 0.2252 accuracy : 0.9102\n",
            "105 loss : 0.2127 accuracy : 0.918\n",
            "106 loss : 0.2249 accuracy : 0.9141\n",
            "107 loss : 0.213 accuracy : 0.9238\n",
            "108 loss : 0.2246 accuracy : 0.918\n",
            "109 loss : 0.2115 accuracy : 0.9258\n",
            "110 loss : 0.2239 accuracy : 0.916\n",
            "111 loss : 0.2225 accuracy : 0.9219\n",
            "112 loss : 0.2036 accuracy : 0.9238\n",
            "113 loss : 0.2104 accuracy : 0.916\n",
            "114 loss : 0.2197 accuracy : 0.9199\n",
            "115 loss : 0.211 accuracy : 0.9102\n",
            "116 loss : 0.2218 accuracy : 0.9141\n",
            "117 loss : 0.2082 accuracy : 0.9238\n",
            "118 loss : 0.2312 accuracy : 0.9141\n",
            "119 loss : 0.2252 accuracy : 0.9121\n",
            "120 loss : 0.2176 accuracy : 0.9199\n",
            "121 loss : 0.2031 accuracy : 0.9199\n",
            "122 loss : 0.2266 accuracy : 0.9082\n",
            "123 loss : 0.2083 accuracy : 0.9141\n",
            "124 loss : 0.21 accuracy : 0.918\n",
            "125 loss : 0.2065 accuracy : 0.9121\n",
            "126 loss : 0.2131 accuracy : 0.918\n",
            "127 loss : 0.2086 accuracy : 0.9121\n",
            "128 loss : 0.2255 accuracy : 0.916\n",
            "129 loss : 0.2118 accuracy : 0.9219\n",
            "130 loss : 0.2105 accuracy : 0.9277\n",
            "131 loss : 0.2094 accuracy : 0.916\n",
            "132 loss : 0.1996 accuracy : 0.9277\n",
            "133 loss : 0.1996 accuracy : 0.9238\n",
            "134 loss : 0.1984 accuracy : 0.9219\n",
            "135 loss : 0.2018 accuracy : 0.9199\n",
            "136 loss : 0.2214 accuracy : 0.9141\n",
            "137 loss : 0.2119 accuracy : 0.9219\n",
            "138 loss : 0.2057 accuracy : 0.918\n",
            "139 loss : 0.2122 accuracy : 0.9199\n",
            "140 loss : 0.2203 accuracy : 0.9043\n",
            "141 loss : 0.2164 accuracy : 0.916\n",
            "142 loss : 0.2091 accuracy : 0.9258\n",
            "143 loss : 0.2064 accuracy : 0.918\n",
            "144 loss : 0.2107 accuracy : 0.9102\n",
            "145 loss : 0.2104 accuracy : 0.9062\n",
            "146 loss : 0.2083 accuracy : 0.9258\n",
            "147 loss : 0.2107 accuracy : 0.918\n",
            "148 loss : 0.197 accuracy : 0.916\n",
            "149 loss : 0.2198 accuracy : 0.9121\n",
            "150 loss : 0.199 accuracy : 0.918\n",
            "151 loss : 0.2151 accuracy : 0.916\n",
            "152 loss : 0.1983 accuracy : 0.918\n",
            "153 loss : 0.1986 accuracy : 0.9277\n",
            "154 loss : 0.208 accuracy : 0.918\n",
            "155 loss : 0.2137 accuracy : 0.9199\n",
            "156 loss : 0.2094 accuracy : 0.9238\n",
            "157 loss : 0.2085 accuracy : 0.916\n",
            "158 loss : 0.1989 accuracy : 0.9316\n",
            "159 loss : 0.2127 accuracy : 0.9121\n",
            "160 loss : 0.2072 accuracy : 0.9316\n",
            "161 loss : 0.1939 accuracy : 0.916\n",
            "162 loss : 0.2066 accuracy : 0.918\n",
            "163 loss : 0.2088 accuracy : 0.9297\n",
            "164 loss : 0.2055 accuracy : 0.9141\n",
            "165 loss : 0.1977 accuracy : 0.9219\n",
            "166 loss : 0.2027 accuracy : 0.9199\n",
            "167 loss : 0.2071 accuracy : 0.9141\n",
            "168 loss : 0.1931 accuracy : 0.9258\n",
            "169 loss : 0.2054 accuracy : 0.918\n",
            "170 loss : 0.2124 accuracy : 0.9199\n",
            "171 loss : 0.1936 accuracy : 0.9238\n",
            "172 loss : 0.2009 accuracy : 0.9277\n",
            "173 loss : 0.1996 accuracy : 0.9238\n",
            "174 loss : 0.1971 accuracy : 0.9277\n",
            "175 loss : 0.1995 accuracy : 0.916\n",
            "176 loss : 0.2017 accuracy : 0.9219\n",
            "177 loss : 0.1973 accuracy : 0.918\n",
            "178 loss : 0.2014 accuracy : 0.918\n",
            "179 loss : 0.1899 accuracy : 0.9141\n",
            "180 loss : 0.2032 accuracy : 0.9141\n",
            "181 loss : 0.2033 accuracy : 0.9141\n",
            "182 loss : 0.1917 accuracy : 0.9199\n",
            "183 loss : 0.1975 accuracy : 0.9258\n",
            "184 loss : 0.2089 accuracy : 0.918\n",
            "185 loss : 0.2108 accuracy : 0.9238\n",
            "186 loss : 0.2036 accuracy : 0.9219\n",
            "187 loss : 0.2034 accuracy : 0.9238\n",
            "188 loss : 0.2012 accuracy : 0.9238\n",
            "189 loss : 0.1973 accuracy : 0.9238\n",
            "190 loss : 0.1974 accuracy : 0.9316\n",
            "191 loss : 0.204 accuracy : 0.916\n",
            "192 loss : 0.1994 accuracy : 0.9199\n",
            "193 loss : 0.1928 accuracy : 0.916\n",
            "194 loss : 0.1896 accuracy : 0.9258\n",
            "195 loss : 0.1916 accuracy : 0.9219\n",
            "196 loss : 0.1966 accuracy : 0.9199\n",
            "197 loss : 0.2056 accuracy : 0.916\n",
            "198 loss : 0.1979 accuracy : 0.9219\n",
            "199 loss : 0.1943 accuracy : 0.916\n",
            "200 loss : 0.2032 accuracy : 0.9219\n"
          ],
          "name": "stdout"
        }
      ]
    },
    {
      "cell_type": "code",
      "metadata": {
        "id": "IJiOlSqxGQnl",
        "colab_type": "code",
        "outputId": "43ec52a9-8734-4b14-9f1d-de2b2f0a35c2",
        "colab": {
          "base_uri": "https://localhost:8080/",
          "height": 361
        }
      },
      "source": [
        "# Plot result\n",
        "\n",
        "import matplotlib.pyplot as plt\n",
        "\n",
        "plt.figure(figsize=(20,5)) # (K2020009) 그림(figure)의 크기 (가로=20,세로=5) 인치 단위\n",
        "\n",
        "plt.subplots_adjust(wspace=0.2) # (K2020009) 서브 플롯 (소스) 사이의 간격을 0.2로 조정하여 변경\n",
        "\n",
        "plt.subplot(1,2,1) # (K2020009) 행의 수/ 열의 수/ 인덱스 값\n",
        "plt.title(\"$loss$\",fontsize = 18)\n",
        "plt.plot(losses)\n",
        "plt.grid()\n",
        "plt.xlabel(\"$epochs$\", fontsize = 16)\n",
        "plt.xticks(fontsize = 14)\n",
        "plt.yticks(fontsize = 14)\n",
        "\n",
        "\n",
        "plt.subplot(1,2,2)\n",
        "plt.title(\"$accuracy$\", fontsize = 18)\n",
        "plt.plot(accuracies)\n",
        "plt.grid()\n",
        "plt.xlabel(\"$epochs$\", fontsize = 16)\n",
        "plt.xticks(fontsize = 14)\n",
        "plt.yticks(fontsize = 14)\n",
        "\n",
        "plt.show()"
      ],
      "execution_count": 0,
      "outputs": [
        {
          "output_type": "display_data",
          "data": {
            "image/png": "[encoded data removed]",
            "text/plain": [
              "<Figure size 1440x360 with 2 Axes>"
            ]
          },
          "metadata": {
            "tags": [],
            "needs_background": "light"
          }
        }
      ]
    },
    {
      "cell_type": "code",
      "metadata": {
        "id": "VFstYt_tmwlU",
        "colab_type": "code",
        "outputId": "058b9434-ce0e-4e0f-f278-399eea2d466b",
        "colab": {
          "base_uri": "https://localhost:8080/",
          "height": 34
        }
      },
      "source": [
        "# Test\n",
        "\n",
        "output = model(x_test)\n",
        "output[output>=0.5] = 1\n",
        "output[output<0.5] = 0\n",
        "\n",
        "accuracy = sum(sum(y_test.data.numpy() == output.data.T.numpy())) /len(y_test)\n",
        "\n",
        "print(\"test_set accuracy :\", round(accuracy,4))"
      ],
      "execution_count": 0,
      "outputs": [
        {
          "output_type": "stream",
          "text": [
            "test_set accuracy : 0.9298\n"
          ],
          "name": "stdout"
        }
      ]
    },
    {
      "cell_type": "code",
      "metadata": {
        "id": "PaYKWxtZ1SJs",
        "colab_type": "code",
        "colab": {}
      },
      "source": [
        ""
      ],
      "execution_count": 0,
      "outputs": []
    }
  ]
}