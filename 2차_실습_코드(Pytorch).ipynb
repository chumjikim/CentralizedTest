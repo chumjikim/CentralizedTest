{
  "nbformat": 4,
  "nbformat_minor": 0,
  "metadata": {
    "colab": {
      "name": "2차 실습 코드(Pytorch).ipynb",
      "provenance": [],
      "collapsed_sections": [],
      "include_colab_link": true
    },
    "kernelspec": {
      "name": "python3",
      "display_name": "Python 3"
    },
    "accelerator": "GPU"
  },
  "cells": [
    {
      "cell_type": "markdown",
      "metadata": {
        "id": "view-in-github",
        "colab_type": "text"
      },
      "source": [
        "<a href=\"https://colab.research.google.com/github/chumjikim/CentralizedTest/blob/master/2%EC%B0%A8_%EC%8B%A4%EC%8A%B5_%EC%BD%94%EB%93%9C(Pytorch).ipynb\" target=\"_parent\"><img src=\"https://colab.research.google.com/assets/colab-badge.svg\" alt=\"Open In Colab\"/></a>"
      ]
    },
    {
      "cell_type": "code",
      "metadata": {
        "id": "ApMA_MsI4oHi",
        "colab_type": "code",
        "outputId": "254d3a35-e817-44b0-b95c-87103e3d16e1",
        "colab": {
          "base_uri": "https://localhost:8080/",
          "height": 439
        }
      },
      "source": [
        "# Data loading\n",
        "\n",
        "from sklearn.datasets import load_breast_cancer\n",
        "\n",
        "cancer = load_breast_cancer()\n",
        "data = cancer.data\n",
        "labels = cancer.target\n",
        "\n",
        "print(data)\n",
        "print(labels)\n",
        "print(data.shape)"
      ],
      "execution_count": 0,
      "outputs": [
        {
          "output_type": "stream",
          "text": [
            "[[1.799e+01 1.038e+01 1.228e+02 ... 2.654e-01 4.601e-01 1.189e-01]\n",
            " [2.057e+01 1.777e+01 1.329e+02 ... 1.860e-01 2.750e-01 8.902e-02]\n",
            " [1.969e+01 2.125e+01 1.300e+02 ... 2.430e-01 3.613e-01 8.758e-02]\n",
            " ...\n",
            " [1.660e+01 2.808e+01 1.083e+02 ... 1.418e-01 2.218e-01 7.820e-02]\n",
            " [2.060e+01 2.933e+01 1.401e+02 ... 2.650e-01 4.087e-01 1.240e-01]\n",
            " [7.760e+00 2.454e+01 4.792e+01 ... 0.000e+00 2.871e-01 7.039e-02]]\n",
            "[0 0 0 0 0 0 0 0 0 0 0 0 0 0 0 0 0 0 0 1 1 1 0 0 0 0 0 0 0 0 0 0 0 0 0 0 0\n",
            " 1 0 0 0 0 0 0 0 0 1 0 1 1 1 1 1 0 0 1 0 0 1 1 1 1 0 1 0 0 1 1 1 1 0 1 0 0\n",
            " 1 0 1 0 0 1 1 1 0 0 1 0 0 0 1 1 1 0 1 1 0 0 1 1 1 0 0 1 1 1 1 0 1 1 0 1 1\n",
            " 1 1 1 1 1 1 0 0 0 1 0 0 1 1 1 0 0 1 0 1 0 0 1 0 0 1 1 0 1 1 0 1 1 1 1 0 1\n",
            " 1 1 1 1 1 1 1 1 0 1 1 1 1 0 0 1 0 1 1 0 0 1 1 0 0 1 1 1 1 0 1 1 0 0 0 1 0\n",
            " 1 0 1 1 1 0 1 1 0 0 1 0 0 0 0 1 0 0 0 1 0 1 0 1 1 0 1 0 0 0 0 1 1 0 0 1 1\n",
            " 1 0 1 1 1 1 1 0 0 1 1 0 1 1 0 0 1 0 1 1 1 1 0 1 1 1 1 1 0 1 0 0 0 0 0 0 0\n",
            " 0 0 0 0 0 0 0 1 1 1 1 1 1 0 1 0 1 1 0 1 1 0 1 0 0 1 1 1 1 1 1 1 1 1 1 1 1\n",
            " 1 0 1 1 0 1 0 1 1 1 1 1 1 1 1 1 1 1 1 1 1 0 1 1 1 0 1 0 1 1 1 1 0 0 0 1 1\n",
            " 1 1 0 1 0 1 0 1 1 1 0 1 1 1 1 1 1 1 0 0 0 1 1 1 1 1 1 1 1 1 1 1 0 0 1 0 0\n",
            " 0 1 0 0 1 1 1 1 1 0 1 1 1 1 1 0 1 1 1 0 1 1 0 0 1 1 1 1 1 1 0 1 1 1 1 1 1\n",
            " 1 0 1 1 1 1 1 0 1 1 0 1 1 1 1 1 1 1 1 1 1 1 1 0 1 0 0 1 0 1 1 1 1 1 0 1 1\n",
            " 0 1 0 1 1 0 1 0 1 1 1 1 1 1 1 1 0 0 1 1 1 1 1 1 0 1 1 1 1 1 1 1 1 1 1 0 1\n",
            " 1 1 1 1 1 1 0 1 0 1 1 0 1 1 1 1 1 0 0 1 0 1 0 1 1 1 1 1 0 1 1 0 1 0 1 0 0\n",
            " 1 1 1 0 1 1 1 1 1 1 1 1 1 1 1 0 1 0 0 1 1 1 1 1 1 1 1 1 1 1 1 1 1 1 1 1 1\n",
            " 1 1 1 1 1 1 1 0 0 0 0 0 0 1]\n",
            "(569, 30)\n"
          ],
          "name": "stdout"
        }
      ]
    },
    {
      "cell_type": "code",
      "metadata": {
        "id": "qi0SFzZs4zZP",
        "colab_type": "code",
        "outputId": "a33fe0f2-7579-4982-d2bd-35d3c2a279a4",
        "colab": {
          "base_uri": "https://localhost:8080/",
          "height": 193
        }
      },
      "source": [
        "# Split data\n",
        "\n",
        "from sklearn.model_selection import train_test_split\n",
        "\n",
        "x_train, x_test, y_train, y_test = train_test_split(data, labels, test_size=0.1) \n",
        "print(len(x_train), len(x_test), type(x_train))\n",
        "\n",
        "print(x_test)\n",
        "print(y_test)"
      ],
      "execution_count": 0,
      "outputs": [
        {
          "output_type": "stream",
          "text": [
            "512 57 <class 'numpy.ndarray'>\n",
            "[[1.289e+01 1.411e+01 8.495e+01 ... 1.561e-01 2.639e-01 1.178e-01]\n",
            " [1.981e+01 2.215e+01 1.300e+02 ... 2.388e-01 2.768e-01 7.615e-02]\n",
            " [1.236e+01 2.180e+01 7.978e+01 ... 1.205e-01 2.972e-01 9.261e-02]\n",
            " ...\n",
            " [9.904e+00 1.806e+01 6.460e+01 ... 9.910e-02 2.614e-01 1.162e-01]\n",
            " [9.777e+00 1.699e+01 6.250e+01 ... 5.334e-02 2.533e-01 8.468e-02]\n",
            " [9.465e+00 2.101e+01 6.011e+01 ... 6.517e-02 2.878e-01 9.211e-02]]\n",
            "[1 0 1 1 1 0 0 0 1 0 1 0 1 1 1 1 1 0 0 0 1 0 1 1 1 1 1 0 1 1 1 0 0 0 0 0 0\n",
            " 1 1 0 0 0 1 1 0 1 1 1 0 1 1 1 0 1 1 1 1]\n"
          ],
          "name": "stdout"
        }
      ]
    },
    {
      "cell_type": "code",
      "metadata": {
        "id": "qkfYVX555tVh",
        "colab_type": "code",
        "outputId": "434f2c0d-45bc-474c-c8b4-cec41843d753",
        "colab": {
          "base_uri": "https://localhost:8080/",
          "height": 34
        }
      },
      "source": [
        "# Convert to tensor\n",
        "\n",
        "import torch\n",
        "import torch.nn as nn\n",
        "import torch.nn.functional as F\n",
        "from torch.utils.data import DataLoader, TensorDataset\n",
        "from torch.autograd import Variable\n",
        "\n",
        "\n",
        "x_train = Variable(torch.from_numpy(x_train).float())\n",
        "y_train = Variable(torch.from_numpy(y_train).float())\n",
        "\n",
        "x_test = Variable(torch.from_numpy(x_test).float())\n",
        "y_test = Variable(torch.from_numpy(y_test).float())\n",
        "\n",
        "print(type(x_train))"
      ],
      "execution_count": 0,
      "outputs": [
        {
          "output_type": "stream",
          "text": [
            "<class 'torch.Tensor'>\n"
          ],
          "name": "stdout"
        }
      ]
    },
    {
      "cell_type": "code",
      "metadata": {
        "id": "JILCuCqf6USv",
        "colab_type": "code",
        "colab": {}
      },
      "source": [
        "# Generating dataset\n",
        "\n",
        "train_set = TensorDataset(x_train, y_train)\n",
        "test_set = TensorDataset(x_test, y_test)\n",
        "\n",
        "train_loader = DataLoader(train_set, batch_size = 8, shuffle=True)"
      ],
      "execution_count": 0,
      "outputs": []
    },
    {
      "cell_type": "markdown",
      "metadata": {
        "id": "R13TlkArFqzi",
        "colab_type": "text"
      },
      "source": [
        ""
      ]
    },
    {
      "cell_type": "code",
      "metadata": {
        "id": "umKKUzh16esj",
        "colab_type": "code",
        "outputId": "c667c3b1-d489-4c5b-b253-802e3121a049",
        "colab": {
          "base_uri": "https://localhost:8080/",
          "height": 158
        }
      },
      "source": [
        "# Construct model\n",
        "\n",
        "class Model(nn.Module):\n",
        "  def __init__(self):\n",
        "    super().__init__()\n",
        "    \n",
        "    self.layer1 = nn.Linear(30, 128)\n",
        "    self.layer2 = nn.Linear(128, 64)\n",
        "    self.layer3 = nn.Linear(64, 32)\n",
        "    self.layer4 = nn.Linear(32, 16)\n",
        "    self.layer5 = nn.Linear(16, 1)\n",
        "    self.act = nn.ReLU()\n",
        "\n",
        "  def forward(self,x):\n",
        "    x = self.act(self.layer1(x))\n",
        "    x = self.act(self.layer2(x))\n",
        "    x = self.act(self.layer3(x))\n",
        "    x = self.act(self.layer4(x))\n",
        "    x = self.layer5(x)\n",
        "    x = torch.sigmoid(x)\n",
        "    \n",
        "    return x\n",
        "\n",
        "model = Model()\n",
        "print(model)\n"
      ],
      "execution_count": 0,
      "outputs": [
        {
          "output_type": "stream",
          "text": [
            "Model(\n",
            "  (layer1): Linear(in_features=30, out_features=128, bias=True)\n",
            "  (layer2): Linear(in_features=128, out_features=64, bias=True)\n",
            "  (layer3): Linear(in_features=64, out_features=32, bias=True)\n",
            "  (layer4): Linear(in_features=32, out_features=16, bias=True)\n",
            "  (layer5): Linear(in_features=16, out_features=1, bias=True)\n",
            "  (act): ReLU()\n",
            ")\n"
          ],
          "name": "stdout"
        }
      ]
    },
    {
      "cell_type": "code",
      "metadata": {
        "id": "fO2QwNMl6gVt",
        "colab_type": "code",
        "colab": {}
      },
      "source": [
        "# Configure optimizer\n",
        "optimizer = torch.optim.SGD(model.parameters(), lr=0.001)"
      ],
      "execution_count": 0,
      "outputs": []
    },
    {
      "cell_type": "code",
      "metadata": {
        "id": "TMF-ZKi6DFaH",
        "colab_type": "code",
        "outputId": "d1ef8496-1752-4f4a-822e-e1812f7c2177",
        "colab": {
          "base_uri": "https://localhost:8080/",
          "height": 1000
        }
      },
      "source": [
        "# Training\n",
        "\n",
        "epochs = 200\n",
        "losses = list()\n",
        "accuracies = list()\n",
        "\n",
        "for epoch in range(epochs):\n",
        "  epoch_loss = 0  \n",
        "  epoch_accuracy = 0\n",
        "  for x, y in train_loader:\n",
        "  \n",
        "    optimizer.zero_grad()\n",
        "\n",
        "    output = model(x)\n",
        "\n",
        "    loss = F.binary_cross_entropy(output, y)\n",
        "    loss.backward()\n",
        "    \n",
        "    optimizer.step()\n",
        "    \n",
        "    output[output>=0.5] = 1\n",
        "    output[output<0.5] = 0\n",
        "    accuracy = sum(sum(y.data.numpy() == output.data.T.numpy()))\n",
        "\n",
        "    epoch_loss += loss.item()\n",
        "    epoch_accuracy += accuracy\n",
        "  \n",
        "\n",
        "  epoch_loss /= len(train_loader)\n",
        "  epoch_accuracy /= len(x_train)\n",
        "  print(str(epoch+1).zfill(3), \"loss :\", round(epoch_loss,4),\"accuracy :\", round(epoch_accuracy,4))\n",
        "  \n",
        "  losses.append(epoch_loss)\n",
        "  accuracies.append(epoch_accuracy)\n",
        "\n",
        "  "
      ],
      "execution_count": 0,
      "outputs": [
        {
          "output_type": "stream",
          "text": [
            "/usr/local/lib/python3.6/dist-packages/ipykernel_launcher.py:14: UserWarning: Using a target size (torch.Size([8])) that is different to the input size (torch.Size([8, 1])) is deprecated. Please ensure they have the same size.\n",
            "  \n"
          ],
          "name": "stderr"
        },
        {
          "output_type": "stream",
          "text": [
            "001 loss : 0.6483 accuracy : 0.5879\n",
            "002 loss : 0.5943 accuracy : 0.6934\n",
            "003 loss : 0.5151 accuracy : 0.7949\n",
            "004 loss : 0.498 accuracy : 0.8066\n",
            "005 loss : 0.4637 accuracy : 0.8262\n",
            "006 loss : 0.4182 accuracy : 0.8535\n",
            "007 loss : 0.4341 accuracy : 0.8203\n",
            "008 loss : 0.4617 accuracy : 0.7715\n",
            "009 loss : 0.4001 accuracy : 0.8535\n",
            "010 loss : 0.3956 accuracy : 0.8594\n",
            "011 loss : 0.3526 accuracy : 0.8633\n",
            "012 loss : 0.3588 accuracy : 0.8613\n",
            "013 loss : 0.3289 accuracy : 0.877\n",
            "014 loss : 0.3492 accuracy : 0.8672\n",
            "015 loss : 0.3283 accuracy : 0.8711\n",
            "016 loss : 0.322 accuracy : 0.8867\n",
            "017 loss : 0.3032 accuracy : 0.8906\n",
            "018 loss : 0.3296 accuracy : 0.8867\n",
            "019 loss : 0.3265 accuracy : 0.8906\n",
            "020 loss : 0.3146 accuracy : 0.8672\n",
            "021 loss : 0.2865 accuracy : 0.8906\n",
            "022 loss : 0.3061 accuracy : 0.8887\n",
            "023 loss : 0.3002 accuracy : 0.877\n",
            "024 loss : 0.3204 accuracy : 0.8652\n",
            "025 loss : 0.2894 accuracy : 0.8926\n",
            "026 loss : 0.2834 accuracy : 0.8691\n",
            "027 loss : 0.2705 accuracy : 0.9082\n",
            "028 loss : 0.2865 accuracy : 0.8984\n",
            "029 loss : 0.2685 accuracy : 0.9062\n",
            "030 loss : 0.2665 accuracy : 0.9004\n",
            "031 loss : 0.2871 accuracy : 0.8848\n",
            "032 loss : 0.2846 accuracy : 0.9023\n",
            "033 loss : 0.2913 accuracy : 0.873\n",
            "034 loss : 0.2373 accuracy : 0.9199\n",
            "035 loss : 0.267 accuracy : 0.8945\n",
            "036 loss : 0.238 accuracy : 0.9062\n",
            "037 loss : 0.2731 accuracy : 0.8926\n",
            "038 loss : 0.2598 accuracy : 0.916\n",
            "039 loss : 0.2697 accuracy : 0.9062\n",
            "040 loss : 0.2658 accuracy : 0.9082\n",
            "041 loss : 0.2731 accuracy : 0.8906\n",
            "042 loss : 0.2537 accuracy : 0.9004\n",
            "043 loss : 0.2389 accuracy : 0.9102\n",
            "044 loss : 0.2503 accuracy : 0.8984\n",
            "045 loss : 0.2646 accuracy : 0.9004\n",
            "046 loss : 0.2418 accuracy : 0.9199\n",
            "047 loss : 0.2654 accuracy : 0.9023\n",
            "048 loss : 0.23 accuracy : 0.9141\n",
            "049 loss : 0.2329 accuracy : 0.9102\n",
            "050 loss : 0.2469 accuracy : 0.9043\n",
            "051 loss : 0.2449 accuracy : 0.8965\n",
            "052 loss : 0.2466 accuracy : 0.8945\n",
            "053 loss : 0.2505 accuracy : 0.8984\n",
            "054 loss : 0.2168 accuracy : 0.918\n",
            "055 loss : 0.2464 accuracy : 0.8945\n",
            "056 loss : 0.2287 accuracy : 0.9062\n",
            "057 loss : 0.2358 accuracy : 0.9141\n",
            "058 loss : 0.2615 accuracy : 0.9062\n",
            "059 loss : 0.2503 accuracy : 0.8945\n",
            "060 loss : 0.2574 accuracy : 0.8906\n",
            "061 loss : 0.2803 accuracy : 0.8887\n",
            "062 loss : 0.2503 accuracy : 0.9004\n",
            "063 loss : 0.2495 accuracy : 0.9082\n",
            "064 loss : 0.2391 accuracy : 0.9121\n",
            "065 loss : 0.2266 accuracy : 0.916\n",
            "066 loss : 0.2235 accuracy : 0.9102\n",
            "067 loss : 0.2448 accuracy : 0.9062\n",
            "068 loss : 0.2343 accuracy : 0.9102\n",
            "069 loss : 0.2349 accuracy : 0.9082\n",
            "070 loss : 0.2432 accuracy : 0.8984\n",
            "071 loss : 0.2521 accuracy : 0.8945\n",
            "072 loss : 0.2124 accuracy : 0.9219\n",
            "073 loss : 0.225 accuracy : 0.9199\n",
            "074 loss : 0.235 accuracy : 0.9062\n",
            "075 loss : 0.2277 accuracy : 0.916\n",
            "076 loss : 0.2241 accuracy : 0.9141\n",
            "077 loss : 0.2541 accuracy : 0.9004\n",
            "078 loss : 0.2278 accuracy : 0.9102\n",
            "079 loss : 0.2455 accuracy : 0.9023\n",
            "080 loss : 0.2282 accuracy : 0.918\n",
            "081 loss : 0.2185 accuracy : 0.918\n",
            "082 loss : 0.237 accuracy : 0.9043\n",
            "083 loss : 0.2097 accuracy : 0.916\n",
            "084 loss : 0.2218 accuracy : 0.9102\n",
            "085 loss : 0.2433 accuracy : 0.9062\n",
            "086 loss : 0.233 accuracy : 0.9219\n",
            "087 loss : 0.2261 accuracy : 0.9004\n",
            "088 loss : 0.2144 accuracy : 0.9121\n",
            "089 loss : 0.2129 accuracy : 0.9219\n",
            "090 loss : 0.2241 accuracy : 0.9238\n",
            "091 loss : 0.2247 accuracy : 0.9082\n",
            "092 loss : 0.2285 accuracy : 0.9141\n",
            "093 loss : 0.2272 accuracy : 0.9121\n",
            "094 loss : 0.2253 accuracy : 0.918\n",
            "095 loss : 0.2199 accuracy : 0.916\n",
            "096 loss : 0.2131 accuracy : 0.9141\n",
            "097 loss : 0.2294 accuracy : 0.9102\n",
            "098 loss : 0.2304 accuracy : 0.9141\n",
            "099 loss : 0.2239 accuracy : 0.916\n",
            "100 loss : 0.2202 accuracy : 0.916\n",
            "101 loss : 0.227 accuracy : 0.916\n",
            "102 loss : 0.2152 accuracy : 0.9121\n",
            "103 loss : 0.223 accuracy : 0.9219\n",
            "104 loss : 0.233 accuracy : 0.9043\n",
            "105 loss : 0.2197 accuracy : 0.9199\n",
            "106 loss : 0.2178 accuracy : 0.9199\n",
            "107 loss : 0.2187 accuracy : 0.918\n",
            "108 loss : 0.2189 accuracy : 0.9141\n",
            "109 loss : 0.2155 accuracy : 0.918\n",
            "110 loss : 0.2131 accuracy : 0.9141\n",
            "111 loss : 0.2225 accuracy : 0.916\n",
            "112 loss : 0.2159 accuracy : 0.9062\n",
            "113 loss : 0.219 accuracy : 0.9219\n",
            "114 loss : 0.2098 accuracy : 0.918\n",
            "115 loss : 0.2212 accuracy : 0.9258\n",
            "116 loss : 0.224 accuracy : 0.916\n",
            "117 loss : 0.2085 accuracy : 0.9258\n",
            "118 loss : 0.2237 accuracy : 0.9102\n",
            "119 loss : 0.2049 accuracy : 0.918\n",
            "120 loss : 0.2223 accuracy : 0.9062\n",
            "121 loss : 0.2148 accuracy : 0.9121\n",
            "122 loss : 0.2282 accuracy : 0.9062\n",
            "123 loss : 0.2318 accuracy : 0.9121\n",
            "124 loss : 0.2284 accuracy : 0.918\n",
            "125 loss : 0.2169 accuracy : 0.9219\n",
            "126 loss : 0.2109 accuracy : 0.9238\n",
            "127 loss : 0.204 accuracy : 0.916\n",
            "128 loss : 0.198 accuracy : 0.9316\n",
            "129 loss : 0.2223 accuracy : 0.9082\n",
            "130 loss : 0.2015 accuracy : 0.9258\n",
            "131 loss : 0.2184 accuracy : 0.9082\n",
            "132 loss : 0.2157 accuracy : 0.9121\n",
            "133 loss : 0.2126 accuracy : 0.9023\n",
            "134 loss : 0.1984 accuracy : 0.9336\n",
            "135 loss : 0.2178 accuracy : 0.9141\n",
            "136 loss : 0.1992 accuracy : 0.9141\n",
            "137 loss : 0.2124 accuracy : 0.9141\n",
            "138 loss : 0.203 accuracy : 0.9199\n",
            "139 loss : 0.2066 accuracy : 0.9121\n",
            "140 loss : 0.2079 accuracy : 0.9238\n",
            "141 loss : 0.2148 accuracy : 0.9277\n",
            "142 loss : 0.2085 accuracy : 0.9199\n",
            "143 loss : 0.2034 accuracy : 0.9277\n",
            "144 loss : 0.2107 accuracy : 0.9219\n",
            "145 loss : 0.2162 accuracy : 0.9082\n",
            "146 loss : 0.2162 accuracy : 0.9121\n",
            "147 loss : 0.1962 accuracy : 0.9316\n",
            "148 loss : 0.2101 accuracy : 0.9277\n",
            "149 loss : 0.2073 accuracy : 0.9219\n",
            "150 loss : 0.2079 accuracy : 0.9199\n",
            "151 loss : 0.2129 accuracy : 0.9141\n",
            "152 loss : 0.2086 accuracy : 0.9219\n",
            "153 loss : 0.2008 accuracy : 0.9336\n",
            "154 loss : 0.2123 accuracy : 0.9238\n",
            "155 loss : 0.2049 accuracy : 0.9199\n",
            "156 loss : 0.2077 accuracy : 0.9277\n",
            "157 loss : 0.205 accuracy : 0.9316\n",
            "158 loss : 0.2046 accuracy : 0.9121\n",
            "159 loss : 0.2031 accuracy : 0.9121\n",
            "160 loss : 0.1994 accuracy : 0.9277\n",
            "161 loss : 0.2147 accuracy : 0.9277\n",
            "162 loss : 0.2004 accuracy : 0.9277\n",
            "163 loss : 0.2019 accuracy : 0.9219\n",
            "164 loss : 0.1902 accuracy : 0.9316\n",
            "165 loss : 0.2048 accuracy : 0.916\n",
            "166 loss : 0.2043 accuracy : 0.916\n",
            "167 loss : 0.2014 accuracy : 0.9277\n",
            "168 loss : 0.2179 accuracy : 0.916\n",
            "169 loss : 0.2093 accuracy : 0.9277\n",
            "170 loss : 0.1947 accuracy : 0.9238\n",
            "171 loss : 0.2055 accuracy : 0.9199\n",
            "172 loss : 0.1834 accuracy : 0.9375\n",
            "173 loss : 0.2074 accuracy : 0.9258\n",
            "174 loss : 0.2023 accuracy : 0.9238\n",
            "175 loss : 0.1878 accuracy : 0.9258\n",
            "176 loss : 0.2046 accuracy : 0.9219\n",
            "177 loss : 0.1972 accuracy : 0.9238\n",
            "178 loss : 0.2057 accuracy : 0.9141\n",
            "179 loss : 0.196 accuracy : 0.9258\n",
            "180 loss : 0.2011 accuracy : 0.918\n",
            "181 loss : 0.2122 accuracy : 0.9141\n",
            "182 loss : 0.2073 accuracy : 0.9219\n",
            "183 loss : 0.2009 accuracy : 0.9316\n",
            "184 loss : 0.189 accuracy : 0.9297\n",
            "185 loss : 0.1968 accuracy : 0.9238\n",
            "186 loss : 0.2053 accuracy : 0.9219\n",
            "187 loss : 0.2031 accuracy : 0.918\n",
            "188 loss : 0.1956 accuracy : 0.918\n",
            "189 loss : 0.2031 accuracy : 0.9121\n",
            "190 loss : 0.1997 accuracy : 0.9238\n",
            "191 loss : 0.2007 accuracy : 0.9297\n",
            "192 loss : 0.1891 accuracy : 0.9219\n",
            "193 loss : 0.2018 accuracy : 0.9258\n",
            "194 loss : 0.2004 accuracy : 0.916\n",
            "195 loss : 0.2028 accuracy : 0.9238\n",
            "196 loss : 0.208 accuracy : 0.9082\n",
            "197 loss : 0.1978 accuracy : 0.9258\n",
            "198 loss : 0.207 accuracy : 0.9219\n",
            "199 loss : 0.1919 accuracy : 0.9277\n",
            "200 loss : 0.1999 accuracy : 0.9219\n"
          ],
          "name": "stdout"
        }
      ]
    },
    {
      "cell_type": "code",
      "metadata": {
        "id": "IJiOlSqxGQnl",
        "colab_type": "code",
        "outputId": "4d20a6c1-e209-4e70-8e1b-75039ed2c8a0",
        "colab": {
          "base_uri": "https://localhost:8080/",
          "height": 367
        }
      },
      "source": [
        "# Plot result\n",
        "\n",
        "import matplotlib.pyplot as plt\n",
        "\n",
        "plt.figure(figsize=(20,5))\n",
        "plt.subplots_adjust(wspace=0.2)\n",
        "\n",
        "plt.subplot(1,2,1)\n",
        "plt.title(\"$loss$\",fontsize = 18)\n",
        "plt.plot(losses)\n",
        "plt.grid()\n",
        "plt.xlabel(\"$epochs$\", fontsize = 16)\n",
        "plt.xticks(fontsize = 14)\n",
        "plt.yticks(fontsize = 14)\n",
        "\n",
        "\n",
        "plt.subplot(1,2,2)\n",
        "plt.title(\"$accuracy$\", fontsize = 18)\n",
        "plt.plot(accuracies)\n",
        "plt.grid()\n",
        "plt.xlabel(\"$epochs$\", fontsize = 16)\n",
        "plt.xticks(fontsize = 14)\n",
        "plt.yticks(fontsize = 14)\n",
        "\n",
        "plt.show()"
      ],
      "execution_count": 0,
      "outputs": [
        {
          "output_type": "display_data",
          "data": {
            "image/png": "[encoded data removed]",
            "text/plain": [
              "<Figure size 1440x360 with 2 Axes>"
            ]
          },
          "metadata": {
            "tags": [],
            "needs_background": "light"
          }
        }
      ]
    },
    {
      "cell_type": "code",
      "metadata": {
        "id": "VFstYt_tmwlU",
        "colab_type": "code",
        "outputId": "0e6be70f-9987-4a85-e743-e73eeb53e57d",
        "colab": {
          "base_uri": "https://localhost:8080/",
          "height": 34
        }
      },
      "source": [
        "# Test\n",
        "\n",
        "output = model(x_test)\n",
        "output[output>=0.5] = 1\n",
        "output[output<0.5] = 0\n",
        "\n",
        "accuracy = sum(sum(y_test.data.numpy() == output.data.T.numpy())) /len(y_test)\n",
        "\n",
        "print(\"test_set accuracy :\", round(accuracy,4))"
      ],
      "execution_count": 0,
      "outputs": [
        {
          "output_type": "stream",
          "text": [
            "test_set accuracy : 0.9123\n"
          ],
          "name": "stdout"
        }
      ]
    },
    {
      "cell_type": "code",
      "metadata": {
        "id": "PaYKWxtZ1SJs",
        "colab_type": "code",
        "colab": {}
      },
      "source": [
        ""
      ],
      "execution_count": 0,
      "outputs": []
    }
  ]
}